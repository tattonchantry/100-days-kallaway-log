{
 "cells": [
  {
   "cell_type": "markdown",
   "metadata": {},
   "source": [
    "# Tropical Homework 1\n",
    "Data is saved as \"TropHW1.txt\""
   ]
  },
  {
   "cell_type": "markdown",
   "metadata": {},
   "source": [
    "## Import the modules to be used"
   ]
  },
  {
   "cell_type": "code",
   "execution_count": 1,
   "metadata": {},
   "outputs": [],
   "source": [
    "from mpl_toolkits.axes_grid1.inset_locator import inset_axes\n",
    "import numpy as np\n",
    "import pandas as pd\n",
    "import metpy.calc as mpcalc\n",
    "from metpy.plots import Hodograph, SkewT\n",
    "import matplotlib.pyplot as plt\n",
    "from metpy.units import units\n",
    "from ipywidgets import widgets\n",
    "from IPython.display import display\n",
    "import IPython\n",
    "\n",
    "# %matplotlib ipympl\n",
    "%matplotlib widget"
   ]
  },
  {
   "cell_type": "markdown",
   "metadata": {},
   "source": [
    "## Import the data"
   ]
  },
  {
   "cell_type": "code",
   "execution_count": 2,
   "metadata": {},
   "outputs": [],
   "source": [
    "col_names = ['pressure', 'height', 'temperature', 'dewpoint', 'rel_hum', 'mixingratio', 'direction', 'speed']\n",
    "\n",
    "df = pd.read_fwf('TropHW1.txt',\n",
    "                 skiprows=1, usecols=[0, 1, 2, 3, 4, 5, 6, 7], names=col_names)\n",
    "\n",
    "df['u_wind'], df['v_wind'] = mpcalc.wind_components(df['speed'],\n",
    "                                                    np.deg2rad(df['direction']))"
   ]
  },
  {
   "cell_type": "markdown",
   "metadata": {},
   "source": [
    "## Get the profile for all variables wanted in question 1."
   ]
  },
  {
   "cell_type": "code",
   "execution_count": 3,
   "metadata": {},
   "outputs": [],
   "source": [
    "p = df['pressure'].values * units.hPa\n",
    "t = df['temperature'].values * units.degC\n",
    "td = df['dewpoint'].values * units.degC\n",
    "rh = df['rel_hum'] # (%)\n",
    "w = df['mixingratio'] # (g/kg)\n",
    "theta = mpcalc.potential_temperature(p, t)\n",
    "thetaE = mpcalc.equivalent_potential_temperature(p, t, td)\n",
    "thetaEs = mpcalc.saturation_equivalent_potential_temperature(p, t)\n",
    "\n",
    "# don't need these, but it's fun to plot them\n",
    "wind_speed = df['speed'].values * units.knots\n",
    "wind_dir = df['direction'].values * units.degrees\n",
    "u, v = mpcalc.wind_components(wind_speed, wind_dir)"
   ]
  },
  {
   "cell_type": "markdown",
   "metadata": {},
   "source": [
    "## Question 1.\n",
    "### Need to fill this in:\n",
    "\n",
    "| P (mb) | T (°C)  | Td (°C) | θ (K) | θe (K) | θes (K) | w (g/kg) | RH (%) |\n",
    "|:------:|:-------:|:-------:|:-----:|:------:|:-------:|:--------:|:------:|\n",
    "|   -    | 0       | -5      | 309   |   -    | -       | -        | -      |\n",
    "| 1000   | 28      | 23      | -     |   -    | -       | -        | -      |\n",
    "|   -    | -       | -       | 305   | 335    | 360     | -        | -      |\n",
    "|   -    | -       | -       | 325   |   -    | -       | 6        | 80     |\n",
    "| 750    | -       | 16      | -     |   -    | 370     | -        | -      |\n"
   ]
  },
  {
   "cell_type": "code",
   "execution_count": 4,
   "metadata": {},
   "outputs": [
    {
     "name": "stderr",
     "output_type": "stream",
     "text": [
      "C:\\Users\\brodi\\Anaconda3\\lib\\site-packages\\pint\\quantity.py:1377: UnitStrippedWarning: The unit of the quantity is stripped.\n",
      "  warnings.warn(\"The unit of the quantity is stripped.\", UnitStrippedWarning)\n"
     ]
    }
   ],
   "source": [
    "# define conversion factors for hecto Pascals and Kelvin\n",
    "hPa = 100.0\n",
    "c_to_k = 273.15\n",
    "\n",
    "# define the two y arrays\n",
    "x_one = np.array(td) + c_to_k\n",
    "x_two = np.array(theta)\n",
    "x_three = np.array(t) + c_to_k"
   ]
  },
  {
   "cell_type": "markdown",
   "metadata": {},
   "source": [
    "### Make all the others into arrays so we can interpolate to them"
   ]
  },
  {
   "cell_type": "code",
   "execution_count": 5,
   "metadata": {},
   "outputs": [],
   "source": [
    "p_arr = np.array(p) * hPa\n",
    "t_arr = np.array(t)\n",
    "td_arr = np.array(td)\n",
    "rh_arr = np.array(rh)\n",
    "w_arr = np.array(w)\n",
    "theta_arr = np.array(theta)\n",
    "thetaE_arr = np.array(thetaE)\n",
    "thetaEs_arr = np.array(thetaEs)"
   ]
  },
  {
   "cell_type": "markdown",
   "metadata": {},
   "source": [
    "### Now get the variables we don't have"
   ]
  },
  {
   "cell_type": "markdown",
   "metadata": {},
   "source": [
    "* Row one: Use Theta = T * (P_0/P)^0.286"
   ]
  },
  {
   "cell_type": "code",
   "execution_count": 6,
   "metadata": {},
   "outputs": [
    {
     "ename": "SyntaxError",
     "evalue": "invalid syntax (<ipython-input-6-92d819a0ac09>, line 11)",
     "output_type": "error",
     "traceback": [
      "\u001b[1;36m  File \u001b[1;32m\"<ipython-input-6-92d819a0ac09>\"\u001b[1;36m, line \u001b[1;32m11\u001b[0m\n\u001b[1;33m    p_r1 =\u001b[0m\n\u001b[1;37m           ^\u001b[0m\n\u001b[1;31mSyntaxError\u001b[0m\u001b[1;31m:\u001b[0m invalid syntax\n"
     ]
    }
   ],
   "source": [
    "# What we knoaw\n",
    "# p_r1 = df['pressure'].values * units.hPa\n",
    "# t_r1 = df['temperature'].values * units.degC\n",
    "# td_r1 = df['dewpoint'].values * units.degC\n",
    "# rh_r1 = df['rel_hum'] # (%)\n",
    "# w_r1 = df['mixingratio'] # (g/kg)\n",
    "# theta_r1 = mpcalc.potential_temperature(p, t)\n",
    "# thetaE_r1 = mpcalc.equivalent_potential_temperature(p, t, td)\n",
    "# thetaEs_r1 = mpcalc.saturation_equivalent_potential_temperature(p, t)\n",
    "# What we knoaw\n",
    "p_r1 = \n",
    "t_r1 = 0 + c_to K\n",
    "td_r1 = -5 + c_to_k\n",
    "theta_r1 = mpcalc.potential_temperature(p, t)\n",
    "thetaE_r1 = mpcalc.equivalent_potential_temperature(p, t, td)\n",
    "thetaEs_r1 = mpcalc.saturation_equivalent_potential_temperature(p, t)\n",
    "w_r1 = df['mixingratio'] # (g/kg)\n",
    "rh_r1 = df['rel_hum'] # (%)"
   ]
  },
  {
   "cell_type": "markdown",
   "metadata": {},
   "source": [
    "Plot it!\n",
    "------------------\n",
    "\n",
    "Radio buttons to turn things on and off"
   ]
  },
  {
   "cell_type": "code",
   "execution_count": null,
   "metadata": {},
   "outputs": [],
   "source": [
    "## most of this is stolen from here: https://unidata.github.io/MetPy/latest/tutorials/upperair_soundings.html\n",
    "\n",
    "table_list = ['p_r1', 'p_r2', 'p_r3', 'p_r4', 'p_r5']\n",
    "\n",
    "def PltSkew(show_table_level, rlim, llim, ppOn=False, BarbOn=True, hodOn=False):\n",
    "    fig, ax = plt.subplots(figsize=(7, 7))\n",
    "    ax.clear()\n",
    "    skew = SkewT(fig, rotation=30)\n",
    "    skew.plot(p, t, 'r')\n",
    "    skew.plot(p, td, 'g')\n",
    "    if BarbOn:\n",
    "        skew.plot_barbs(p, u, v)\n",
    "    skew.ax.set_ylim(1015, 400)\n",
    "    skew.ax.set_xlim(llim, rlim)\n",
    "\n",
    "    if ppOn:\n",
    "        # Plot the parcel profile as a black line\n",
    "        lcl_pressure, lcl_temperature = mpcalc.lcl(p[0], t[0], td[0])\n",
    "        parcel_prof = mpcalc.parcel_profile(p, t[0], td[0]).to('degC')\n",
    "        skew.plot(lcl_pressure, lcl_temperature, 'ko', markerfacecolor='black')\n",
    "        skew.plot(p, parcel_prof, 'k', linewidth=2)\n",
    "        skew.shade_cin(p, t, parcel_prof)\n",
    "        skew.shade_cape(p, t, parcel_prof)\n",
    "\n",
    "    # Plot a zero degree isotherm\n",
    "    skew.ax.axvline(0, color='c', linestyle='--', linewidth=2)\n",
    "\n",
    "    # Add the relevant special lines\n",
    "    skew.plot_dry_adiabats()\n",
    "    skew.plot_moist_adiabats()\n",
    "    skew.plot_mixing_lines()\n",
    "    \n",
    "    if hodOn:\n",
    "        ax_hod = inset_axes(skew.ax, '40%', '40%', loc=1)\n",
    "        h = Hodograph(ax_hod, component_range=80.)\n",
    "        h.add_grid(increment=20)\n",
    "        h.plot_colormapped(u, v, wind_speed)\n",
    "    \n",
    "    skew.ax.axhline(eval(show_table_level), color='xkcd:baby shit brown', linestyle='--', linewidth=2)\n",
    "\n",
    "    # Show the plot\n",
    "    plt.show()\n",
    "\n",
    "# This is because I want to add an option to plot the \n",
    "table_list = ['p_r1', 'p_r2', 'p_r3', 'p_r4', 'p_r5']\n",
    "#show_table_level, rlim, llim, ppOn=False, BarbOn=True\n",
    "\n",
    "show_table_level = widgets.Dropdown(options=table_list, value='p_r1', description='Table row to show', disabled=False)\n",
    "rlim = widgets.IntSlider(min=20, max=60, value=30, description='Right Limit')\n",
    "llim = widgets.IntSlider(min=-30, max=-10, value=-20, description='Left Limit')\n",
    "ppOn = False\n",
    "BarbOn = True\n",
    "hodOn = False\n",
    "\n",
    "widgets.interactive(PltSkew,\n",
    "                    show_table_level=show_table_level,\n",
    "                    rlim=rlim,\n",
    "                    llim=llim,\n",
    "                    ppOn=False,\n",
    "                    BarbOn=True,\n",
    "                    hodOn=False)"
   ]
  },
  {
   "cell_type": "markdown",
   "metadata": {},
   "source": [
    "## Question 3\n",
    "### Assess the stability of the following layers. For each layer, give a brief explanation in the form of temperatures or potential temperatures at the bottom and top of each layer. Additionally, out of the layers shown below, circle the one that is most unstable."
   ]
  },
  {
   "cell_type": "markdown",
   "metadata": {},
   "source": [
    "* 810–790 mb: \n",
    "* 950–900 mb:\n",
    "* 475–400 mb: \n",
    "* 750–500 mb:\n",
    "* Surface to 1000 mb:"
   ]
  },
  {
   "cell_type": "code",
   "execution_count": 7,
   "metadata": {},
   "outputs": [
    {
     "data": {
      "application/vnd.jupyter.widget-view+json": {
       "model_id": "2819cdef33c24c88ac19c5f6a22e79cb",
       "version_major": 2,
       "version_minor": 0
      },
      "text/plain": [
       "interactive(children=(Dropdown(description='Highlight layer', options=('none', '810-790', '950-900', '475-400'…"
      ]
     },
     "metadata": {},
     "output_type": "display_data"
    }
   ],
   "source": [
    "def SkewHl(highlight, annotOn=False):\n",
    "    fig, ax = plt.subplots(figsize=(7, 7))\n",
    "    ax.clear()\n",
    "    skew = SkewT(fig, rotation=30)\n",
    "    skew.plot(p, t, 'r')\n",
    "    skew.plot(p, td, 'g')\n",
    "    skew.ax.set_ylim(1015, 400)\n",
    "    skew.ax.set_xlim(-20, 30)\n",
    "\n",
    "    # plot the highlight\n",
    "    if hldict[highlight]:\n",
    "        skew.ax.axhspan(hldict[highlight][0], hldict[highlight][1], alpha=.2)\n",
    "    \n",
    "    # annotate the layer\n",
    "    props = dict(boxstyle=\"round\", fc=\"0.8\")\n",
    "    if annotOn:\n",
    "        if highlight != 'none':\n",
    "            skew.ax.text(-15, hldict[highlight][1], highlight, ha=\"center\", va=\"center\", size=20,\n",
    "                         bbox=props)\n",
    "\n",
    "    # Plot a zero degree isotherm\n",
    "    skew.ax.axvline(0, color='c', linestyle='--', linewidth=2)\n",
    "\n",
    "    # Add the relevant special lines\n",
    "    skew.plot_dry_adiabats()\n",
    "    skew.plot_moist_adiabats()\n",
    "    skew.plot_mixing_lines()\n",
    "    \n",
    "    # Show the plot\n",
    "    plt.show()\n",
    "\n",
    "hldict = {'none': False,\n",
    "          '810-790': [810, 790],\n",
    "          '950-900': [950, 900],\n",
    "          '475-400': [470, 400],\n",
    "          '750-500': [750, 500],\n",
    "          'Sfc-1000': [p[0], 1000]}\n",
    "\n",
    "highlight = widgets.Dropdown(options=list(hldict.keys()), value='none', description='Highlight layer', disabled=False)\n",
    "\n",
    "widgets.interactive(SkewHl,\n",
    "                    highlight=highlight,\n",
    "                    annotOn=True)"
   ]
  },
  {
   "cell_type": "code",
   "execution_count": null,
   "metadata": {},
   "outputs": [],
   "source": []
  },
  {
   "cell_type": "code",
   "execution_count": null,
   "metadata": {},
   "outputs": [],
   "source": []
  }
 ],
 "metadata": {
  "kernelspec": {
   "display_name": "Python 3",
   "language": "python",
   "name": "python3"
  },
  "language_info": {
   "codemirror_mode": {
    "name": "ipython",
    "version": 3
   },
   "file_extension": ".py",
   "mimetype": "text/x-python",
   "name": "python",
   "nbconvert_exporter": "python",
   "pygments_lexer": "ipython3",
   "version": "3.6.6"
  },
  "notify_time": "5",
  "toc": {
   "base_numbering": 1,
   "nav_menu": {},
   "number_sections": true,
   "sideBar": true,
   "skip_h1_title": false,
   "title_cell": "Table of Contents",
   "title_sidebar": "Contents",
   "toc_cell": false,
   "toc_position": {},
   "toc_section_display": true,
   "toc_window_display": false
  },
  "varInspector": {
   "cols": {
    "lenName": 16,
    "lenType": 16,
    "lenVar": 40
   },
   "kernels_config": {
    "python": {
     "delete_cmd_postfix": "",
     "delete_cmd_prefix": "del ",
     "library": "var_list.py",
     "varRefreshCmd": "print(var_dic_list())"
    },
    "r": {
     "delete_cmd_postfix": ") ",
     "delete_cmd_prefix": "rm(",
     "library": "var_list.r",
     "varRefreshCmd": "cat(var_dic_list()) "
    }
   },
   "position": {
    "height": "369.5px",
    "left": "1126px",
    "right": "20px",
    "top": "120px",
    "width": "354px"
   },
   "types_to_exclude": [
    "module",
    "function",
    "builtin_function_or_method",
    "instance",
    "_Feature"
   ],
   "window_display": false
  }
 },
 "nbformat": 4,
 "nbformat_minor": 2
}
