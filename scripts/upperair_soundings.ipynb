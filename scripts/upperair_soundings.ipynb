{
 "cells": [
  {
   "cell_type": "markdown",
   "metadata": {},
   "source": [
    "# Tropical Homework 1\n",
    "Data is saved as \"TropHW1.txt\""
   ]
  },
  {
   "cell_type": "markdown",
   "metadata": {},
   "source": [
    "## Import the modules to be used"
   ]
  },
  {
   "cell_type": "code",
   "execution_count": 13,
   "metadata": {},
   "outputs": [],
   "source": [
    "from mpl_toolkits.axes_grid1.inset_locator import inset_axes\n",
    "import numpy as np\n",
    "import pandas as pd\n",
    "import metpy.calc as mpcalc\n",
    "from metpy.plots import Hodograph, SkewT\n",
    "import matplotlib.pyplot as plt\n",
    "from metpy.units import units\n",
    "from ipywidgets import widgets\n",
    "from IPython.display import display\n",
    "import IPython\n",
    "\n",
    "# %matplotlib ipympl\n",
    "%matplotlib widget"
   ]
  },
  {
   "cell_type": "markdown",
   "metadata": {},
   "source": [
    "## Import the data"
   ]
  },
  {
   "cell_type": "code",
   "execution_count": 14,
   "metadata": {},
   "outputs": [],
   "source": [
    "col_names = ['pressure', 'height', 'temperature', 'dewpoint', 'rel_hum', 'mixingratio', 'direction', 'speed']\n",
    "\n",
    "df = pd.read_fwf('TropHW1.txt',\n",
    "                 skiprows=1, usecols=[0, 1, 2, 3, 4, 5, 6, 7], names=col_names)\n",
    "\n",
    "df['u_wind'], df['v_wind'] = mpcalc.wind_components(df['speed'],\n",
    "                                                    np.deg2rad(df['direction']))"
   ]
  },
  {
   "cell_type": "markdown",
   "metadata": {},
   "source": [
    "## Get the profile for all variables wanted in question 1."
   ]
  },
  {
   "cell_type": "code",
   "execution_count": 15,
   "metadata": {},
   "outputs": [],
   "source": [
    "p = df['pressure'].values * units.hPa\n",
    "t = df['temperature'].values * units.degC\n",
    "td = df['dewpoint'].values * units.degC\n",
    "rh = df['rel_hum'] # (%)\n",
    "w = df['mixingratio'] # (g/kg)\n",
    "theta = mpcalc.potential_temperature(p, t)\n",
    "thetaE = mpcalc.equivalent_potential_temperature(p, t, td)\n",
    "thetaEs = mpcalc.saturation_equivalent_potential_temperature(p, t)\n",
    "\n",
    "# don't need these, but it's fun to plot them\n",
    "wind_speed = df['speed'].values * units.knots\n",
    "wind_dir = df['direction'].values * units.degrees\n",
    "u, v = mpcalc.wind_components(wind_speed, wind_dir)"
   ]
  },
  {
   "cell_type": "markdown",
   "metadata": {},
   "source": [
    "## Interpolate between heights for question 1.\n",
    "### A Few things to think about while doing the interpolation:\n",
    "* x is always the value we want\n",
    "* x must be increasing\n",
    "* y is any of the other variables we have\n",
    "### So, to fill this in:\n",
    "\n",
    "| P (mb) | T (°C)  | Td (°C) | θ (K) | θe (K) | θes (K) | w (g/kg) | RH (%) |\n",
    "|:------:|:-------:|:-------:|:-----:|:------:|:-------:|:--------:|:------:|\n",
    "|   -    | 0       | -5      | 309   |   -    | -       | -        | -      |\n",
    "| 1000   | 28      | 23      | -     |   -    | -       | -        | -      |\n",
    "|   -    | -       | -       | 305   | 335    | 360     | -        | -      |\n",
    "|   -    | -       | -       | 325   |   -    | -       | 6        | 80     |\n",
    "| 750    | -       | 16      | -     |   -    | 370     | -        | -      |\n",
    "\n",
    "\n",
    "### Two x arrays should cover all variables (Td and Theta)"
   ]
  },
  {
   "cell_type": "code",
   "execution_count": 24,
   "metadata": {},
   "outputs": [],
   "source": [
    "# define conversion factors for hecto Pascals and Kelvin\n",
    "hPa = 100.0\n",
    "c_to_k = 273.15\n",
    "\n",
    "# define the two y arrays\n",
    "x_one = np.array(td) + c_to_k\n",
    "x_two = np.array(theta)\n",
    "x_three = np.array(t) + c_to_k"
   ]
  },
  {
   "cell_type": "markdown",
   "metadata": {},
   "source": [
    "### Make all the others into arrays so we can interpolate to them"
   ]
  },
  {
   "cell_type": "code",
   "execution_count": 25,
   "metadata": {},
   "outputs": [],
   "source": [
    "p_arr = np.array(p) * hPa\n",
    "t_arr = np.array(t)\n",
    "td_arr = np.array(td)\n",
    "rh_arr = np.array(rh)\n",
    "w_arr = np.array(w)\n",
    "theta_arr = np.array(theta)\n",
    "thetaE_arr = np.array(thetaE)\n",
    "thetaEs_arr = np.array(thetaEs)"
   ]
  },
  {
   "cell_type": "markdown",
   "metadata": {},
   "source": [
    "### Now get the variables we don't have"
   ]
  },
  {
   "cell_type": "markdown",
   "metadata": {},
   "source": [
    "* Row one: Use Dew Point because it's already an array, but when looking at it by hand the dew point doesn't quite hit -5 when Temp is 0 which may throw off what he wants."
   ]
  },
  {
   "cell_type": "code",
   "execution_count": 28,
   "metadata": {},
   "outputs": [
    {
     "name": "stdout",
     "output_type": "stream",
     "text": [
      "Row one:\n",
      "P = 578.4\n",
      "ThetaE = 333.27346825682207\n",
      "ThetaEs = 340.97140226205653\n",
      "w = 4.212\n",
      "rh = 64.2\n"
     ]
    }
   ],
   "source": [
    "# Define the known value of our y to interpolate to\n",
    "frz_td = c_to_k - 5.0\n",
    "\n",
    "p_r1 = np.interp(-c_to_k, -x_three, p_arr)/hPa\n",
    "thetaE_r1 = np.interp(-c_to_k, -x_three, thetaE_arr)\n",
    "thetaEs_r1 = np.interp(-c_to_k, -x_three, thetaEs_arr)\n",
    "w_r1 = np.interp(-c_to_k, -x_three, w_arr)\n",
    "rh_r1 = np.interp(-c_to_k, -x_three, rh_arr)\n",
    "\n",
    "print(\"Row one:\")\n",
    "print(\"P = \" + str(p_r1))\n",
    "print(\"ThetaE = \" + str(thetaE_r1))\n",
    "print(\"ThetaEs = \" + str(thetaEs_r1))\n",
    "print(\"w = \" + str(w_r1))\n",
    "print(\"rh = \" + str(rh_r1))"
   ]
  },
  {
   "cell_type": "markdown",
   "metadata": {},
   "source": [
    "* Row two: no need for interpretation because we have all the data we need."
   ]
  },
  {
   "cell_type": "code",
   "execution_count": 19,
   "metadata": {},
   "outputs": [
    {
     "name": "stdout",
     "output_type": "stream",
     "text": [
      "Row two:\n",
      "Theta = 296.95 kelvin\n",
      "ThetaE = 337.2476587028466 kelvin\n",
      "ThetaEs = 351.76595291607714 kelvin\n",
      "w = 13.94\n",
      "rh = 74\n"
     ]
    }
   ],
   "source": [
    "p_r2 = 1000.0\n",
    "print(\"Row two:\")\n",
    "print(\"Theta = \" + str(theta[2]))\n",
    "print(\"ThetaE = \" + str(thetaE[2]))\n",
    "print(\"ThetaEs = \" + str(thetaEs[2]))\n",
    "print(\"w = \" + str(w[2]))\n",
    "print(\"rh = \" + str(rh[2]))"
   ]
  },
  {
   "cell_type": "markdown",
   "metadata": {},
   "source": [
    "* Row three: use Theta"
   ]
  },
  {
   "cell_type": "code",
   "execution_count": 20,
   "metadata": {},
   "outputs": [
    {
     "name": "stdout",
     "output_type": "stream",
     "text": [
      "Row three:\n",
      "P = 814.3555356095063\n",
      "T = 14.47085295843426\n",
      "Td = 9.220363293756124\n",
      "w = 9.76391118494885\n",
      "rh = 77.03520964026183\n"
     ]
    }
   ],
   "source": [
    "# Define the known value of our y to interpolate to\n",
    "theta305 = 305.0\n",
    "\n",
    "p_r3 = np.interp(theta305, x_two, p_arr)/hPa\n",
    "t_r3 = np.interp(theta305, x_two, t_arr)\n",
    "td_r3 = np.interp(theta305, x_two, td_arr)\n",
    "w_r3 = np.interp(theta305, x_two, w_arr)\n",
    "rh_r3 = np.interp(theta305, x_two, rh_arr)\n",
    "\n",
    "print(\"Row three:\")\n",
    "print(\"P = \" + str(p_r3))\n",
    "print(\"T = \" + str(t_r3))\n",
    "print(\"Td = \" + str(td_r3))\n",
    "print(\"w = \" + str(w_r3))\n",
    "print(\"rh = \" + str(rh_r3))"
   ]
  },
  {
   "cell_type": "markdown",
   "metadata": {},
   "source": [
    "* Row four: use Theta"
   ]
  },
  {
   "cell_type": "code",
   "execution_count": 21,
   "metadata": {},
   "outputs": [
    {
     "name": "stdout",
     "output_type": "stream",
     "text": [
      "Row four:\n",
      "P = 504.48336029961536\n",
      "T = -5.851663970038459\n",
      "Td = -10.851663970038459\n",
      "ThetaE = 336.3432722453775\n",
      "ThetaEs = 341.48080914691207\n"
     ]
    }
   ],
   "source": [
    "# Define the known value of our y to interpolate to\n",
    "theta325 = 325.0\n",
    "\n",
    "p_r4 = np.interp(theta325, x_two, p_arr)/hPa\n",
    "t_r4 = np.interp(theta325, x_two, t_arr)\n",
    "td_r4 = np.interp(theta325, x_two, td_arr)\n",
    "thetaE_r4 = np.interp(theta325, x_two, thetaE_arr)\n",
    "thetaEs_r4 = np.interp(theta325, x_two, thetaEs_arr)\n",
    "\n",
    "print(\"Row four:\")\n",
    "print(\"P = \" + str(p_r4))\n",
    "print(\"T = \" + str(t_r4))\n",
    "print(\"Td = \" + str(td_r4))\n",
    "print(\"ThetaE = \" + str(thetaE_r4))\n",
    "print(\"ThetaEs = \" + str(thetaEs_r4))\n"
   ]
  },
  {
   "cell_type": "markdown",
   "metadata": {},
   "source": [
    "* Row five: use dew point"
   ]
  },
  {
   "cell_type": "code",
   "execution_count": 22,
   "metadata": {},
   "outputs": [
    {
     "name": "stdout",
     "output_type": "stream",
     "text": [
      "Row five:\n",
      "T = 17.949999999999964\n",
      "Theta = 299.2751476605689\n",
      "ThetaE = 336.5698146212622\n",
      "w = 17.949999999999964\n",
      "Rh = 88.00000000000014\n"
     ]
    }
   ],
   "source": [
    "# Define the known value of our y to interpolate to\n",
    "td16 = c_to_k + 16.0\n",
    "\n",
    "p_r5 = 750.0\n",
    "t_r5 = np.interp(-td16, -x_one, t_arr)\n",
    "theta_r5 = np.interp(-td16, -x_one, theta_arr)\n",
    "thetaE_r5 = np.interp(-td16, -x_one, thetaE_arr)\n",
    "w_r5 = np.interp(-td16, -x_one, w_arr)\n",
    "rh_r5 = np.interp(-td16, -x_one, rh_arr)\n",
    "\n",
    "print(\"Row five:\")\n",
    "print(\"T = \" + str(t_r5))\n",
    "print(\"Theta = \" + str(theta_r5))\n",
    "print(\"ThetaE = \" + str(thetaE_r5))\n",
    "print(\"w = \" + str(t_r5))\n",
    "print(\"Rh = \" + str(rh_r5))"
   ]
  },
  {
   "cell_type": "markdown",
   "metadata": {},
   "source": [
    "Plot it!\n",
    "------------------\n",
    "\n",
    "Radio buttons to turn things on and off"
   ]
  },
  {
   "cell_type": "code",
   "execution_count": 23,
   "metadata": {},
   "outputs": [
    {
     "data": {
      "application/vnd.jupyter.widget-view+json": {
       "model_id": "809a7df1424d46518213c5a4e402492d",
       "version_major": 2,
       "version_minor": 0
      },
      "text/plain": [
       "interactive(children=(Dropdown(description='Table row to show', options=('p_r1', 'p_r2', 'p_r3', 'p_r4', 'p_r5…"
      ]
     },
     "metadata": {},
     "output_type": "display_data"
    }
   ],
   "source": [
    "## most of this is stolen from here: https://unidata.github.io/MetPy/latest/tutorials/upperair_soundings.html\n",
    "\n",
    "table_list = ['p_r1', 'p_r2', 'p_r3', 'p_r4', 'p_r5']\n",
    "\n",
    "def PltSkew(show_table_level, rlim, llim, ppOn=False, BarbOn=True, hodOn=False):\n",
    "    fig, ax = plt.subplots(figsize=(7, 7))\n",
    "    ax.clear()\n",
    "    skew = SkewT(fig, rotation=30)\n",
    "    skew.plot(p, t, 'r')\n",
    "    skew.plot(p, td, 'g')\n",
    "    if BarbOn:\n",
    "        skew.plot_barbs(p, u, v)\n",
    "    skew.ax.set_ylim(1015, 400)\n",
    "    skew.ax.set_xlim(llim, rlim)\n",
    "\n",
    "    if ppOn:\n",
    "        # Plot the parcel profile as a black line\n",
    "        lcl_pressure, lcl_temperature = mpcalc.lcl(p[0], t[0], td[0])\n",
    "        parcel_prof = mpcalc.parcel_profile(p, t[0], td[0]).to('degC')\n",
    "        skew.plot(lcl_pressure, lcl_temperature, 'ko', markerfacecolor='black')\n",
    "        skew.plot(p, parcel_prof, 'k', linewidth=2)\n",
    "        skew.shade_cin(p, t, parcel_prof)\n",
    "        skew.shade_cape(p, t, parcel_prof)\n",
    "\n",
    "    # Plot a zero degree isotherm\n",
    "    skew.ax.axvline(0, color='c', linestyle='--', linewidth=2)\n",
    "\n",
    "    # Add the relevant special lines\n",
    "    skew.plot_dry_adiabats()\n",
    "    skew.plot_moist_adiabats()\n",
    "    skew.plot_mixing_lines()\n",
    "    \n",
    "    if hodOn:\n",
    "        ax_hod = inset_axes(skew.ax, '40%', '40%', loc=1)\n",
    "        h = Hodograph(ax_hod, component_range=80.)\n",
    "        h.add_grid(increment=20)\n",
    "        h.plot_colormapped(u, v, wind_speed)\n",
    "    \n",
    "    skew.ax.axhline(eval(show_table_level), color='xkcd:baby shit brown', linestyle='--', linewidth=2)\n",
    "\n",
    "    # Show the plot\n",
    "    plt.show()\n",
    "\n",
    "# This is because I want to add an option to plot the \n",
    "table_list = ['p_r1', 'p_r2', 'p_r3', 'p_r4', 'p_r5']\n",
    "#show_table_level, rlim, llim, ppOn=False, BarbOn=True\n",
    "\n",
    "show_table_level = widgets.Dropdown(options=table_list, value='p_r1', description='Table row to show', disabled=False)\n",
    "rlim = widgets.IntSlider(min=20, max=60, value=30, description='Right Limit')\n",
    "llim = widgets.IntSlider(min=-30, max=-10, value=-20, description='Left Limit')\n",
    "ppOn = False\n",
    "BarbOn = True\n",
    "hodOn = False\n",
    "\n",
    "widgets.interactive(PltSkew,\n",
    "                    show_table_level=show_table_level,\n",
    "                    rlim=rlim,\n",
    "                    llim=llim,\n",
    "                    ppOn=False,\n",
    "                    BarbOn=True,\n",
    "                    hodOn=False)"
   ]
  },
  {
   "cell_type": "markdown",
   "metadata": {},
   "source": [
    "## Question 3\n",
    "### Assess the stability of the following layers. For each layer, give a brief explanation in the form of temperatures or potential temperatures at the bottom and top of each layer. Additionally, out of the layers shown below, circle the one that is most unstable."
   ]
  },
  {
   "cell_type": "markdown",
   "metadata": {},
   "source": [
    "* 810–790 mb: \n",
    "* 950–900 mb:\n",
    "* 475–400 mb: \n",
    "* 750–500 mb:\n",
    "* Surface to 1000 mb:"
   ]
  },
  {
   "cell_type": "code",
   "execution_count": 12,
   "metadata": {},
   "outputs": [
    {
     "data": {
      "application/vnd.jupyter.widget-view+json": {
       "model_id": "1b5b5ab3dfe24afb8c092f1cf9819fd9",
       "version_major": 2,
       "version_minor": 0
      },
      "text/plain": [
       "interactive(children=(Dropdown(description='Highlight layer', options=('none', '810-790', '950-900', '475-400'…"
      ]
     },
     "metadata": {},
     "output_type": "display_data"
    }
   ],
   "source": [
    "%matplotlib widget\n",
    "def SkewHl(highlight, annotOn=False):\n",
    "    fig, ax = plt.subplots(figsize=(7, 7))\n",
    "    ax.clear()\n",
    "    skew = SkewT(fig, rotation=30)\n",
    "    skew.plot(p, t, 'r')\n",
    "    skew.plot(p, td, 'g')\n",
    "    skew.ax.set_ylim(1015, 400)\n",
    "    skew.ax.set_xlim(-20, 30)\n",
    "\n",
    "    # plot the highlight\n",
    "    if hldict[highlight]:\n",
    "        skew.ax.axhspan(hldict[highlight][0], hldict[highlight][1], alpha=.2)\n",
    "    \n",
    "    # annotate the layer\n",
    "    props = dict(boxstyle=\"round\", fc=\"0.8\")\n",
    "    if annotOn:\n",
    "        if highlight != 'none':\n",
    "            skew.ax.text(-15, hldict[highlight][1], highlight, ha=\"center\", va=\"center\", size=20,\n",
    "                         bbox=props)\n",
    "\n",
    "    # Plot a zero degree isotherm\n",
    "    skew.ax.axvline(0, color='c', linestyle='--', linewidth=2)\n",
    "\n",
    "    # Add the relevant special lines\n",
    "    skew.plot_dry_adiabats()\n",
    "    skew.plot_moist_adiabats()\n",
    "    skew.plot_mixing_lines()\n",
    "    \n",
    "    # Show the plot\n",
    "    plt.show()\n",
    "\n",
    "hldict = {'none': False,\n",
    "          '810-790': [810, 790],\n",
    "          '950-900': [950, 900],\n",
    "          '475-400': [470, 400],\n",
    "          '750-500': [750, 500],\n",
    "          'Sfc-1000': [p[0], 1000]}\n",
    "\n",
    "highlight = widgets.Dropdown(options=list(hldict.keys()), value='none', description='Highlight layer', disabled=False)\n",
    "\n",
    "widgets.interactive(SkewHl,\n",
    "                    highlight=highlight,\n",
    "                    annotOn=True)"
   ]
  },
  {
   "cell_type": "code",
   "execution_count": null,
   "metadata": {},
   "outputs": [],
   "source": []
  },
  {
   "cell_type": "code",
   "execution_count": null,
   "metadata": {},
   "outputs": [],
   "source": []
  }
 ],
 "metadata": {
  "kernelspec": {
   "display_name": "Python 3",
   "language": "python",
   "name": "python3"
  },
  "language_info": {
   "codemirror_mode": {
    "name": "ipython",
    "version": 3
   },
   "file_extension": ".py",
   "mimetype": "text/x-python",
   "name": "python",
   "nbconvert_exporter": "python",
   "pygments_lexer": "ipython3",
   "version": "3.6.6"
  }
 },
 "nbformat": 4,
 "nbformat_minor": 2
}
